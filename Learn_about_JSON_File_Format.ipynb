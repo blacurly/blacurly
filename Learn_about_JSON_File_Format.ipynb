{
  "nbformat": 4,
  "nbformat_minor": 0,
  "metadata": {
    "colab": {
      "provenance": [],
      "authorship_tag": "ABX9TyOThG2u2eBL2W44dtadR1/l",
      "include_colab_link": true
    },
    "kernelspec": {
      "name": "python3",
      "display_name": "Python 3"
    },
    "language_info": {
      "name": "python"
    }
  },
  "cells": [
    {
      "cell_type": "markdown",
      "metadata": {
        "id": "view-in-github",
        "colab_type": "text"
      },
      "source": [
        "<a href=\"https://colab.research.google.com/github/blacurly/blacurly/blob/main/Learn_about_JSON_File_Format.ipynb\" target=\"_parent\"><img src=\"https://colab.research.google.com/assets/colab-badge.svg\" alt=\"Open In Colab\"/></a>"
      ]
    },
    {
      "cell_type": "markdown",
      "source": [
        "**JSON**\n",
        "\n",
        "JSON (JavaScript Object Notation) is an open standard file format to store and transport data (format for sharing data)\n",
        "\n",
        "*I use hands-on exercise from IBM Data Science Certification Module*"
      ],
      "metadata": {
        "id": "IqLRlZFNV8Bv"
      }
    },
    {
      "cell_type": "code",
      "execution_count": 2,
      "metadata": {
        "id": "CnEgqy39V0ja"
      },
      "outputs": [],
      "source": [
        "import json\n",
        "person = {\n",
        "    'first_name' : 'Mark',\n",
        "    'last_name' : 'abc',\n",
        "    'age' : 27,\n",
        "    'address': {\n",
        "        \"streetAddress\": \"21 2nd Street\",\n",
        "        \"city\": \"New York\",\n",
        "        \"state\": \"NY\",\n",
        "        \"postalcode\": \"10021-3100\"\n",
        "    }\n",
        "}"
      ]
    },
    {
      "cell_type": "code",
      "source": [
        "with open('person.json', 'w') as f:  # writing JSON object\n",
        "    json.dump(person, f) #Serialization Using dump() function, #method can be used for writing to JSON file"
      ],
      "metadata": {
        "id": "gbILa-khWljo"
      },
      "execution_count": 4,
      "outputs": []
    },
    {
      "cell_type": "code",
      "source": [
        "# Serializing json\n",
        "json_object = json.dumps(person, indent = 4)\n",
        "\n",
        "# Writing to sample.json\n",
        "with open(\"sample.json\", \"w\") as outfile:\n",
        "    outfile.write(json_object)"
      ],
      "metadata": {
        "id": "5r7HY7aVXKoi"
      },
      "execution_count": 5,
      "outputs": []
    },
    {
      "cell_type": "code",
      "source": [
        "print(json_object)"
      ],
      "metadata": {
        "colab": {
          "base_uri": "https://localhost:8080/"
        },
        "id": "e4qSU7O7Xzz3",
        "outputId": "fccdd788-4aa2-42d6-f8a3-eb0482d5b908"
      },
      "execution_count": 6,
      "outputs": [
        {
          "output_type": "stream",
          "name": "stdout",
          "text": [
            "{\n",
            "    \"first_name\": \"Mark\",\n",
            "    \"last_name\": \"abc\",\n",
            "    \"age\": 27,\n",
            "    \"address\": {\n",
            "        \"streetAddress\": \"21 2nd Street\",\n",
            "        \"city\": \"New York\",\n",
            "        \"state\": \"NY\",\n",
            "        \"postalcode\": \"10021-3100\"\n",
            "    }\n",
            "}\n"
          ]
        }
      ]
    },
    {
      "cell_type": "markdown",
      "source": [
        "**Reading JSON to a File**"
      ],
      "metadata": {
        "id": "0Lmp-bytYWAD"
      }
    },
    {
      "cell_type": "code",
      "source": [
        "# Opening JSON file\n",
        "with open('sample.json', 'r') as openfile:\n",
        "\n",
        "    # Reading from json file\n",
        "    json_object = json.load(openfile)\n",
        "\n",
        "print(json_object)\n",
        "print(type(json_object))"
      ],
      "metadata": {
        "colab": {
          "base_uri": "https://localhost:8080/"
        },
        "id": "K-nx4SvaYcmd",
        "outputId": "d8476bf4-933a-4cec-f179-6d319d5180fc"
      },
      "execution_count": 7,
      "outputs": [
        {
          "output_type": "stream",
          "name": "stdout",
          "text": [
            "{'first_name': 'Mark', 'last_name': 'abc', 'age': 27, 'address': {'streetAddress': '21 2nd Street', 'city': 'New York', 'state': 'NY', 'postalcode': '10021-3100'}}\n",
            "<class 'dict'>\n"
          ]
        }
      ]
    },
    {
      "cell_type": "code",
      "source": [],
      "metadata": {
        "id": "w72XjYZCYdPz"
      },
      "execution_count": null,
      "outputs": []
    }
  ]
}