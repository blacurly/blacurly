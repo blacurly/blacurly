{
  "nbformat": 4,
  "nbformat_minor": 0,
  "metadata": {
    "colab": {
      "provenance": [],
      "authorship_tag": "ABX9TyNE2XoBVPQHg2PcjXEVpx4z",
      "include_colab_link": true
    },
    "kernelspec": {
      "name": "python3",
      "display_name": "Python 3"
    },
    "language_info": {
      "name": "python"
    }
  },
  "cells": [
    {
      "cell_type": "markdown",
      "metadata": {
        "id": "view-in-github",
        "colab_type": "text"
      },
      "source": [
        "<a href=\"https://colab.research.google.com/github/blacurly/blacurly/blob/main/DataScienceEcosystem.ipynb\" target=\"_parent\"><img src=\"https://colab.research.google.com/assets/colab-badge.svg\" alt=\"Open In Colab\"/></a>"
      ]
    },
    {
      "cell_type": "markdown",
      "source": [
        "#Data Science Tools and Ecocystem"
      ],
      "metadata": {
        "id": "ylTf1Pr9CBgY"
      }
    },
    {
      "cell_type": "markdown",
      "source": [
        "###In this notebook, Data Science Tools and Ecosystem are summarized."
      ],
      "metadata": {
        "id": "KV93s1iyC8as"
      }
    },
    {
      "cell_type": "markdown",
      "source": [
        "##Author\n",
        "Fara Olivia"
      ],
      "metadata": {
        "id": "xzEO92_wR5sw"
      }
    },
    {
      "cell_type": "markdown",
      "source": [
        "**Objectives:**\n",
        "\n",
        "*   Lists of popular languages for a Data Scientist\n",
        "*   Lists of popular libraries for a Data Science Project\n",
        "*   Common used Tools for a Data Scientist\n",
        "*   Basic Arithmetic expression in Jupyter notebook\n",
        "\n"
      ],
      "metadata": {
        "id": "v7x8qcqMQanq"
      }
    },
    {
      "cell_type": "markdown",
      "source": [
        "Some of the popular languages that Data Scientists use are:\n",
        "\n",
        "\n",
        "1.   Python\n",
        "2.   R\n",
        "3.   SQL\n",
        "4.   Julia\n",
        "5.   Java\n",
        "6.   C/C++\n",
        "7.   JavaScript\n",
        "\n",
        "\n",
        "\n"
      ],
      "metadata": {
        "id": "luP3imI8D8pp"
      }
    },
    {
      "cell_type": "markdown",
      "source": [
        "Some of the commonly used libraries used by Data Scientist include:\n",
        "\n",
        "1. TensorFlow -> useful for Time-series analysis, Speech and image recognation, Video detection\n",
        "2. SciPy -> Contains feature that has high-level commands for data manipulation\n",
        "3. NumPy \n",
        "4. Pandas -> Generally used for cleaning and wrangling data\n",
        "5. Scikit-learn -> Machine Learning process"
      ],
      "metadata": {
        "id": "wS-PHoK9GDiW"
      }
    },
    {
      "cell_type": "markdown",
      "source": [
        "| Data Science Tools\n",
        "---\n",
        "Tableau | \n",
        "IBM Watson Studio |\n",
        "IBM Cloud |\n",
        "RStudio |\n",
        "Jupyter Notebook |\n",
        "Python |\n",
        "Apache Superset |\n",
        "Apache Spark |"
      ],
      "metadata": {
        "id": "2nptpxetIU9Z"
      }
    },
    {
      "cell_type": "markdown",
      "source": [
        "Below are a few examples of evaluating arithmetic expressions in Python"
      ],
      "metadata": {
        "id": "ZhLXvQnuNXB9"
      }
    },
    {
      "cell_type": "code",
      "source": [
        "#This a simple arithmetic expression to multiply then add integers\n",
        "(3*4)+5"
      ],
      "metadata": {
        "colab": {
          "base_uri": "https://localhost:8080/"
        },
        "id": "6As2FPRwPBy0",
        "outputId": "c449c328-9b9f-438a-a704-861c49cde125"
      },
      "execution_count": null,
      "outputs": [
        {
          "output_type": "execute_result",
          "data": {
            "text/plain": [
              "17"
            ]
          },
          "metadata": {},
          "execution_count": 1
        }
      ]
    },
    {
      "cell_type": "code",
      "source": [
        "#This will convert 200 minutes to hours by dividing by 60\n",
        "200/60"
      ],
      "metadata": {
        "colab": {
          "base_uri": "https://localhost:8080/"
        },
        "id": "DN4eq5_wPrdH",
        "outputId": "d3cc6736-1079-4859-8225-799f10d62536"
      },
      "execution_count": null,
      "outputs": [
        {
          "output_type": "execute_result",
          "data": {
            "text/plain": [
              "3.3333333333333335"
            ]
          },
          "metadata": {},
          "execution_count": 2
        }
      ]
    },
    {
      "cell_type": "markdown",
      "source": [
        "*this is the end of exercise*"
      ],
      "metadata": {
        "id": "mxZeG32qTAnO"
      }
    }
  ]
}